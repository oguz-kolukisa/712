{
 "cells": [
  {
   "cell_type": "code",
   "execution_count": null,
   "id": "de858a2b",
   "metadata": {
    "vscode": {
     "languageId": "plaintext"
    }
   },
   "outputs": [],
   "source": [
    "# !pip install \"transformers>=4.40\" \"trl\" \"datasets[audio,image]\" \"peft\" \"accelerate\" \"aiohttp\""
   ]
  },
  {
   "cell_type": "code",
   "execution_count": null,
   "id": "5cd9be6b",
   "metadata": {
    "vscode": {
     "languageId": "plaintext"
    }
   },
   "outputs": [],
   "source": [
    "import os, aiohttp, torch\n",
    "from pathlib import Path\n",
    "from torch.utils.data import Dataset\n",
    "\n",
    "from datasets import load_dataset\n",
    "\n",
    "from transformers import (\n",
    "    AutoModelForCausalLM, AutoTokenizer,\n",
    "    Blip2Config, Blip2ForConditionalGeneration, Blip2Processor,\n",
    ")\n",
    "from transformers.trainer_utils import get_last_checkpoint\n",
    "from trl import SFTTrainer, SFTConfig\n",
    "from peft import LoraConfig, get_peft_model\n"
   ]
  },
  {
   "cell_type": "code",
   "execution_count": null,
   "id": "121e8996",
   "metadata": {
    "vscode": {
     "languageId": "plaintext"
    }
   },
   "outputs": [],
   "source": []
  }
 ],
 "metadata": {
  "language_info": {
   "name": "python"
  }
 },
 "nbformat": 4,
 "nbformat_minor": 5
}
